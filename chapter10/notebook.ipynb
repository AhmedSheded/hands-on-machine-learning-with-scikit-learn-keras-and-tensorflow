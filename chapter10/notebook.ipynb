{
 "cells": [
  {
   "cell_type": "markdown",
   "source": [
    "### single TLU network"
   ],
   "metadata": {
    "collapsed": false
   }
  },
  {
   "cell_type": "code",
   "execution_count": 1,
   "outputs": [],
   "source": [
    "import numpy as np\n",
    "from sklearn.datasets import load_iris\n",
    "from sklearn.linear_model import Perceptron\n",
    "\n",
    "iris = load_iris()\n",
    "X = iris.data[:, (2, 3)] # petal length, petal width\n",
    "y = (iris.target == 0).astype(int) # iris Setosa\n",
    "\n",
    "per_clf = Perceptron()\n",
    "per_clf.fit(X, y)\n",
    "y_pred = per_clf.predict([[2, 0.5]])"
   ],
   "metadata": {
    "collapsed": false,
    "ExecuteTime": {
     "end_time": "2023-05-17T13:13:36.340310764Z",
     "start_time": "2023-05-17T13:13:34.839220134Z"
    }
   }
  },
  {
   "cell_type": "markdown",
   "source": [
    "### Building an Image Classifier Using the Sequential API"
   ],
   "metadata": {
    "collapsed": false
   }
  },
  {
   "cell_type": "markdown",
   "source": [],
   "metadata": {
    "collapsed": false
   }
  },
  {
   "cell_type": "code",
   "execution_count": 2,
   "outputs": [
    {
     "name": "stderr",
     "output_type": "stream",
     "text": [
      "2023-05-17 16:13:37.060012: I tensorflow/tsl/cuda/cudart_stub.cc:28] Could not find cuda drivers on your machine, GPU will not be used.\n",
      "2023-05-17 16:13:37.485606: I tensorflow/tsl/cuda/cudart_stub.cc:28] Could not find cuda drivers on your machine, GPU will not be used.\n",
      "2023-05-17 16:13:39.428744: W tensorflow/compiler/tf2tensorrt/utils/py_utils.cc:38] TF-TRT Warning: Could not find TensorRT\n"
     ]
    }
   ],
   "source": [
    "import tensorflow as tf\n",
    "from tensorflow import keras\n",
    "\n",
    "fashion_mnist = keras.datasets.fashion_mnist\n",
    "\n",
    "(X_train_full, y_train_full), (X_test, y_test)= fashion_mnist.load_data()"
   ],
   "metadata": {
    "collapsed": false,
    "ExecuteTime": {
     "end_time": "2023-05-17T13:13:42.404367791Z",
     "start_time": "2023-05-17T13:13:36.345301911Z"
    }
   }
  },
  {
   "cell_type": "code",
   "execution_count": 3,
   "outputs": [
    {
     "data": {
      "text/plain": "(60000, 28, 28)"
     },
     "execution_count": 3,
     "metadata": {},
     "output_type": "execute_result"
    }
   ],
   "source": [
    "X_train_full.shape"
   ],
   "metadata": {
    "collapsed": false,
    "ExecuteTime": {
     "end_time": "2023-05-17T13:13:51.692348399Z",
     "start_time": "2023-05-17T13:13:51.647874719Z"
    }
   }
  },
  {
   "cell_type": "code",
   "execution_count": 4,
   "outputs": [
    {
     "data": {
      "text/plain": "dtype('uint8')"
     },
     "execution_count": 4,
     "metadata": {},
     "output_type": "execute_result"
    }
   ],
   "source": [
    "X_train_full.dtype"
   ],
   "metadata": {
    "collapsed": false,
    "ExecuteTime": {
     "end_time": "2023-05-17T13:13:53.149826479Z",
     "start_time": "2023-05-17T13:13:53.133578142Z"
    }
   }
  },
  {
   "cell_type": "code",
   "execution_count": 5,
   "outputs": [],
   "source": [
    "x_valid, x_train = X_train_full[:5000]/255.0, X_train_full[5000:]/255.0\n",
    "y_valid, y_train = y_train_full[:5000], y_train_full[5000:]"
   ],
   "metadata": {
    "collapsed": false,
    "ExecuteTime": {
     "end_time": "2023-05-17T13:13:54.980139627Z",
     "start_time": "2023-05-17T13:13:54.703931911Z"
    }
   }
  },
  {
   "cell_type": "code",
   "execution_count": 6,
   "outputs": [],
   "source": [
    "class_names = [\"T-shirt/top\", \"Trouser\", \"Pullover\", \"Dress\", \"Coat\",\n",
    "               \"Sandal\", \"Shirt\", \"Sneaker\", \"Bag\", \"Ankle boot\"]"
   ],
   "metadata": {
    "collapsed": false,
    "ExecuteTime": {
     "end_time": "2023-05-17T13:13:56.141716937Z",
     "start_time": "2023-05-17T13:13:56.106939688Z"
    }
   }
  },
  {
   "cell_type": "code",
   "execution_count": 7,
   "outputs": [
    {
     "data": {
      "text/plain": "'Coat'"
     },
     "execution_count": 7,
     "metadata": {},
     "output_type": "execute_result"
    }
   ],
   "source": [
    "class_names[y_train[0]]"
   ],
   "metadata": {
    "collapsed": false,
    "ExecuteTime": {
     "end_time": "2023-05-17T13:13:57.171664772Z",
     "start_time": "2023-05-17T13:13:57.005209288Z"
    }
   }
  },
  {
   "cell_type": "markdown",
   "source": [
    "### Createing the model using the Sequential API"
   ],
   "metadata": {
    "collapsed": false
   }
  },
  {
   "cell_type": "code",
   "execution_count": 8,
   "outputs": [
    {
     "name": "stderr",
     "output_type": "stream",
     "text": [
      "2023-05-17 16:13:59.464404: E tensorflow/compiler/xla/stream_executor/cuda/cuda_driver.cc:266] failed call to cuInit: CUDA_ERROR_UNKNOWN: unknown error\n",
      "2023-05-17 16:13:59.464511: I tensorflow/compiler/xla/stream_executor/cuda/cuda_diagnostics.cc:168] retrieving CUDA diagnostic information for host: sheded-Latitude-E6520\n",
      "2023-05-17 16:13:59.464535: I tensorflow/compiler/xla/stream_executor/cuda/cuda_diagnostics.cc:175] hostname: sheded-Latitude-E6520\n",
      "2023-05-17 16:13:59.464747: I tensorflow/compiler/xla/stream_executor/cuda/cuda_diagnostics.cc:199] libcuda reported version is: 390.157.0\n",
      "2023-05-17 16:13:59.464831: I tensorflow/compiler/xla/stream_executor/cuda/cuda_diagnostics.cc:203] kernel reported version is: 390.157.0\n",
      "2023-05-17 16:13:59.464855: I tensorflow/compiler/xla/stream_executor/cuda/cuda_diagnostics.cc:309] kernel version seems to match DSO: 390.157.0\n"
     ]
    }
   ],
   "source": [
    "model = keras.models.Sequential()\n",
    "model.add(keras.layers.Flatten(input_shape=[28, 28]))\n",
    "model.add(keras.layers.Dense(300, activation='relu'))\n",
    "model.add(keras.layers.Dense(100, activation='relu'))\n",
    "model.add(keras.layers.Dense(10, activation='softmax'))"
   ],
   "metadata": {
    "collapsed": false,
    "ExecuteTime": {
     "end_time": "2023-05-17T13:13:59.793595721Z",
     "start_time": "2023-05-17T13:13:59.404954182Z"
    }
   }
  },
  {
   "cell_type": "code",
   "execution_count": 9,
   "outputs": [
    {
     "name": "stdout",
     "output_type": "stream",
     "text": [
      "Model: \"sequential\"\n",
      "_________________________________________________________________\n",
      " Layer (type)                Output Shape              Param #   \n",
      "=================================================================\n",
      " flatten (Flatten)           (None, 784)               0         \n",
      "                                                                 \n",
      " dense (Dense)               (None, 300)               235500    \n",
      "                                                                 \n",
      " dense_1 (Dense)             (None, 100)               30100     \n",
      "                                                                 \n",
      " dense_2 (Dense)             (None, 10)                1010      \n",
      "                                                                 \n",
      "=================================================================\n",
      "Total params: 266,610\n",
      "Trainable params: 266,610\n",
      "Non-trainable params: 0\n",
      "_________________________________________________________________\n"
     ]
    }
   ],
   "source": [
    "model.summary()"
   ],
   "metadata": {
    "collapsed": false,
    "ExecuteTime": {
     "end_time": "2023-05-17T13:14:02.384137202Z",
     "start_time": "2023-05-17T13:14:02.316039578Z"
    }
   }
  },
  {
   "cell_type": "code",
   "execution_count": 10,
   "outputs": [
    {
     "data": {
      "text/plain": "[<keras.layers.reshaping.flatten.Flatten at 0x7f0967ab7f10>,\n <keras.layers.core.dense.Dense at 0x7f08e11d6b90>,\n <keras.layers.core.dense.Dense at 0x7f08e11d6650>,\n <keras.layers.core.dense.Dense at 0x7f08e11d6620>]"
     },
     "execution_count": 10,
     "metadata": {},
     "output_type": "execute_result"
    }
   ],
   "source": [
    "model.layers"
   ],
   "metadata": {
    "collapsed": false,
    "ExecuteTime": {
     "end_time": "2023-05-17T13:14:03.523190350Z",
     "start_time": "2023-05-17T13:14:03.472154448Z"
    }
   }
  },
  {
   "cell_type": "code",
   "execution_count": 11,
   "outputs": [
    {
     "data": {
      "text/plain": "'dense'"
     },
     "execution_count": 11,
     "metadata": {},
     "output_type": "execute_result"
    }
   ],
   "source": [
    "model.layers[1].name"
   ],
   "metadata": {
    "collapsed": false,
    "ExecuteTime": {
     "end_time": "2023-05-17T13:14:04.501910196Z",
     "start_time": "2023-05-17T13:14:04.489251296Z"
    }
   }
  },
  {
   "cell_type": "code",
   "execution_count": 12,
   "outputs": [
    {
     "data": {
      "text/plain": "'dense'"
     },
     "execution_count": 12,
     "metadata": {},
     "output_type": "execute_result"
    }
   ],
   "source": [
    "model.get_layer('dense').name"
   ],
   "metadata": {
    "collapsed": false,
    "ExecuteTime": {
     "end_time": "2023-05-17T13:14:05.461276358Z",
     "start_time": "2023-05-17T13:14:05.400652753Z"
    }
   }
  },
  {
   "cell_type": "code",
   "execution_count": 13,
   "outputs": [],
   "source": [
    "weights, biases = model.get_layer('dense').get_weights()"
   ],
   "metadata": {
    "collapsed": false,
    "ExecuteTime": {
     "end_time": "2023-05-17T13:14:06.933832890Z",
     "start_time": "2023-05-17T13:14:06.881137205Z"
    }
   }
  },
  {
   "cell_type": "code",
   "execution_count": 14,
   "outputs": [
    {
     "data": {
      "text/plain": "(784, 300)"
     },
     "execution_count": 14,
     "metadata": {},
     "output_type": "execute_result"
    }
   ],
   "source": [
    "weights.shape"
   ],
   "metadata": {
    "collapsed": false,
    "ExecuteTime": {
     "end_time": "2023-05-17T13:14:08.311540086Z",
     "start_time": "2023-05-17T13:14:08.278555092Z"
    }
   }
  },
  {
   "cell_type": "code",
   "execution_count": 15,
   "outputs": [
    {
     "data": {
      "text/plain": "(300,)"
     },
     "execution_count": 15,
     "metadata": {},
     "output_type": "execute_result"
    }
   ],
   "source": [
    "biases.shape"
   ],
   "metadata": {
    "collapsed": false,
    "ExecuteTime": {
     "end_time": "2023-05-17T13:14:09.298493582Z",
     "start_time": "2023-05-17T13:14:09.277059291Z"
    }
   }
  },
  {
   "cell_type": "code",
   "execution_count": 16,
   "outputs": [],
   "source": [
    "model.compile(loss='sparse_categorical_crossentropy', optimizer='sgd', metrics=['accuracy'])"
   ],
   "metadata": {
    "collapsed": false,
    "ExecuteTime": {
     "end_time": "2023-05-17T13:14:10.476031618Z",
     "start_time": "2023-05-17T13:14:10.414271429Z"
    }
   }
  },
  {
   "cell_type": "code",
   "execution_count": null,
   "outputs": [
    {
     "name": "stderr",
     "output_type": "stream",
     "text": [
      "2023-05-17 16:14:11.961229: W tensorflow/tsl/framework/cpu_allocator_impl.cc:83] Allocation of 172480000 exceeds 10% of free system memory.\n"
     ]
    },
    {
     "name": "stdout",
     "output_type": "stream",
     "text": [
      "Epoch 1/30\n",
      "1719/1719 [==============================] - 13s 7ms/step - loss: 0.6941 - accuracy: 0.7711 - val_loss: 0.5209 - val_accuracy: 0.8208\n",
      "Epoch 2/30\n",
      "1719/1719 [==============================] - 10s 6ms/step - loss: 0.4903 - accuracy: 0.8294 - val_loss: 0.4619 - val_accuracy: 0.8464\n",
      "Epoch 3/30\n",
      "1719/1719 [==============================] - 9s 5ms/step - loss: 0.4455 - accuracy: 0.8437 - val_loss: 0.4206 - val_accuracy: 0.8588\n",
      "Epoch 4/30\n",
      "1719/1719 [==============================] - 10s 6ms/step - loss: 0.4192 - accuracy: 0.8537 - val_loss: 0.3944 - val_accuracy: 0.8654\n",
      "Epoch 5/30\n",
      "1719/1719 [==============================] - 10s 6ms/step - loss: 0.3985 - accuracy: 0.8601 - val_loss: 0.4094 - val_accuracy: 0.8552\n",
      "Epoch 6/30\n",
      "1719/1719 [==============================] - 15s 9ms/step - loss: 0.3814 - accuracy: 0.8657 - val_loss: 0.3888 - val_accuracy: 0.8620\n",
      "Epoch 7/30\n",
      "1719/1719 [==============================] - 13s 8ms/step - loss: 0.3682 - accuracy: 0.8701 - val_loss: 0.3600 - val_accuracy: 0.8740\n",
      "Epoch 8/30\n",
      "1719/1719 [==============================] - 11s 6ms/step - loss: 0.3566 - accuracy: 0.8734 - val_loss: 0.3516 - val_accuracy: 0.8774\n",
      "Epoch 9/30\n",
      "1719/1719 [==============================] - 13s 7ms/step - loss: 0.3453 - accuracy: 0.8769 - val_loss: 0.3597 - val_accuracy: 0.8710\n",
      "Epoch 10/30\n",
      "1719/1719 [==============================] - 13s 8ms/step - loss: 0.3354 - accuracy: 0.8798 - val_loss: 0.3437 - val_accuracy: 0.8796\n",
      "Epoch 11/30\n",
      "1719/1719 [==============================] - 18s 10ms/step - loss: 0.3263 - accuracy: 0.8830 - val_loss: 0.3688 - val_accuracy: 0.8714\n",
      "Epoch 12/30\n",
      "1719/1719 [==============================] - 15s 9ms/step - loss: 0.3182 - accuracy: 0.8863 - val_loss: 0.3350 - val_accuracy: 0.8826\n",
      "Epoch 13/30\n",
      "1719/1719 [==============================] - 14s 8ms/step - loss: 0.3111 - accuracy: 0.8878 - val_loss: 0.3258 - val_accuracy: 0.8784\n",
      "Epoch 14/30\n",
      "1719/1719 [==============================] - 16s 9ms/step - loss: 0.3035 - accuracy: 0.8907 - val_loss: 0.3437 - val_accuracy: 0.8758\n",
      "Epoch 15/30\n",
      "1719/1719 [==============================] - 16s 9ms/step - loss: 0.2960 - accuracy: 0.8928 - val_loss: 0.3226 - val_accuracy: 0.8840\n",
      "Epoch 16/30\n",
      "1719/1719 [==============================] - 16s 9ms/step - loss: 0.2900 - accuracy: 0.8946 - val_loss: 0.3238 - val_accuracy: 0.8874\n",
      "Epoch 17/30\n",
      "1719/1719 [==============================] - 16s 9ms/step - loss: 0.2840 - accuracy: 0.8980 - val_loss: 0.3419 - val_accuracy: 0.8782\n",
      "Epoch 18/30\n",
      "1719/1719 [==============================] - 15s 9ms/step - loss: 0.2788 - accuracy: 0.8997 - val_loss: 0.3100 - val_accuracy: 0.8920\n",
      "Epoch 19/30\n",
      "1719/1719 [==============================] - 15s 9ms/step - loss: 0.2730 - accuracy: 0.9010 - val_loss: 0.3158 - val_accuracy: 0.8890\n",
      "Epoch 20/30\n",
      "1719/1719 [==============================] - 14s 8ms/step - loss: 0.2676 - accuracy: 0.9039 - val_loss: 0.3078 - val_accuracy: 0.8922\n",
      "Epoch 21/30\n",
      "1719/1719 [==============================] - 15s 9ms/step - loss: 0.2613 - accuracy: 0.9059 - val_loss: 0.3097 - val_accuracy: 0.8902\n",
      "Epoch 22/30\n",
      "1719/1719 [==============================] - 15s 9ms/step - loss: 0.2582 - accuracy: 0.9064 - val_loss: 0.2953 - val_accuracy: 0.8946\n",
      "Epoch 23/30\n",
      "1719/1719 [==============================] - 15s 9ms/step - loss: 0.2535 - accuracy: 0.9086 - val_loss: 0.3066 - val_accuracy: 0.8894\n",
      "Epoch 24/30\n",
      "1719/1719 [==============================] - 15s 8ms/step - loss: 0.2471 - accuracy: 0.9109 - val_loss: 0.3014 - val_accuracy: 0.8922\n",
      "Epoch 25/30\n",
      "1719/1719 [==============================] - 15s 8ms/step - loss: 0.2440 - accuracy: 0.9117 - val_loss: 0.3201 - val_accuracy: 0.8878\n",
      "Epoch 26/30\n",
      "1719/1719 [==============================] - 15s 8ms/step - loss: 0.2395 - accuracy: 0.9141 - val_loss: 0.2993 - val_accuracy: 0.8910\n",
      "Epoch 27/30\n",
      "1719/1719 [==============================] - 15s 9ms/step - loss: 0.2352 - accuracy: 0.9154 - val_loss: 0.3075 - val_accuracy: 0.8888\n",
      "Epoch 28/30\n",
      " 857/1719 [=============>................] - ETA: 6s - loss: 0.2261 - accuracy: 0.9168"
     ]
    }
   ],
   "source": [
    "history = model.fit(x_train, y_train, epochs=30, validation_data=(x_valid, y_valid))"
   ],
   "metadata": {
    "collapsed": false,
    "is_executing": true,
    "ExecuteTime": {
     "start_time": "2023-05-17T13:14:11.746356316Z"
    }
   }
  },
  {
   "cell_type": "code",
   "execution_count": 18,
   "outputs": [
    {
     "data": {
      "text/plain": "<Figure size 800x500 with 1 Axes>",
      "image/png": "[encoded data removed]"
     },
     "metadata": {},
     "output_type": "display_data"
    }
   ],
   "source": [
    "import pandas as pd\n",
    "import matplotlib.pyplot as plt\n",
    "pd.DataFrame(history.history).plot(figsize=(8, 5))\n",
    "plt.grid()\n",
    "plt.gca().set_ylim(0, 1)\n",
    "plt.show()"
   ],
   "metadata": {
    "collapsed": false,
    "ExecuteTime": {
     "end_time": "2023-05-17T13:23:30.728658245Z",
     "start_time": "2023-05-17T13:23:28.333362040Z"
    }
   }
  },
  {
   "cell_type": "code",
   "execution_count": 19,
   "outputs": [
    {
     "name": "stdout",
     "output_type": "stream",
     "text": [
      "313/313 [==============================] - 2s 6ms/step - loss: 61.4783 - accuracy: 0.8501\n"
     ]
    },
    {
     "data": {
      "text/plain": "[61.478336334228516, 0.8500999808311462]"
     },
     "execution_count": 19,
     "metadata": {},
     "output_type": "execute_result"
    }
   ],
   "source": [
    "model.evaluate(X_test, y_test)"
   ],
   "metadata": {
    "collapsed": false,
    "ExecuteTime": {
     "end_time": "2023-05-17T13:23:33.173545243Z",
     "start_time": "2023-05-17T13:23:30.069457399Z"
    }
   }
  },
  {
   "cell_type": "code",
   "execution_count": 20,
   "outputs": [
    {
     "name": "stdout",
     "output_type": "stream",
     "text": [
      "1/1 [==============================] - 0s 185ms/step\n"
     ]
    },
    {
     "data": {
      "text/plain": "array([[0., 0., 0., 0., 0., 0., 0., 0., 0., 1.],\n       [0., 0., 1., 0., 0., 0., 0., 0., 0., 0.],\n       [0., 1., 0., 0., 0., 0., 0., 0., 0., 0.]], dtype=float32)"
     },
     "execution_count": 20,
     "metadata": {},
     "output_type": "execute_result"
    }
   ],
   "source": [
    "X_new = X_test[:3]\n",
    "y_proba = model.predict(X_new)\n",
    "y_proba.round(2)"
   ],
   "metadata": {
    "collapsed": false,
    "ExecuteTime": {
     "end_time": "2023-05-17T13:23:33.569983582Z",
     "start_time": "2023-05-17T13:23:33.179156644Z"
    }
   }
  },
  {
   "cell_type": "markdown",
   "source": [
    "### Building a Regression MLP Using the Sequential API"
   ],
   "metadata": {
    "collapsed": false
   }
  },
  {
   "cell_type": "code",
   "execution_count": 21,
   "outputs": [],
   "source": [
    "from sklearn.datasets import fetch_california_housing\n",
    "from sklearn.model_selection import train_test_split\n",
    "from sklearn.preprocessing import StandardScaler"
   ],
   "metadata": {
    "collapsed": false,
    "ExecuteTime": {
     "end_time": "2023-05-17T13:28:44.505308108Z",
     "start_time": "2023-05-17T13:28:44.397156703Z"
    }
   }
  },
  {
   "cell_type": "code",
   "execution_count": 22,
   "outputs": [],
   "source": [
    "housing = fetch_california_housing()\n",
    "\n",
    "X_train_full, X_test, y_train_full, y_test = train_test_split(housing.data, housing.target)\n",
    "X_train, X_valid, y_train, y_valid = train_test_split(X_train_full, y_train_full)"
   ],
   "metadata": {
    "collapsed": false,
    "ExecuteTime": {
     "end_time": "2023-05-17T13:31:02.085812943Z",
     "start_time": "2023-05-17T13:30:58.695157546Z"
    }
   }
  },
  {
   "cell_type": "code",
   "execution_count": 23,
   "outputs": [],
   "source": [
    "scaler = StandardScaler()\n",
    "X_train_scaled = scaler.fit_transform(X_train)\n",
    "X_valid_scaled = scaler.fit_transform(X_valid)\n",
    "X_test_scaled = scaler.fit_transform(X_test)"
   ],
   "metadata": {
    "collapsed": false,
    "ExecuteTime": {
     "end_time": "2023-05-17T13:32:41.533430756Z",
     "start_time": "2023-05-17T13:32:41.440263746Z"
    }
   }
  },
  {
   "cell_type": "code",
   "execution_count": 24,
   "outputs": [
    {
     "data": {
      "text/plain": "(11610, 8)"
     },
     "execution_count": 24,
     "metadata": {},
     "output_type": "execute_result"
    }
   ],
   "source": [
    "X_train_scaled.shape"
   ],
   "metadata": {
    "collapsed": false,
    "ExecuteTime": {
     "end_time": "2023-05-17T13:35:00.719356498Z",
     "start_time": "2023-05-17T13:35:00.662128061Z"
    }
   }
  },
  {
   "cell_type": "code",
   "execution_count": 26,
   "outputs": [],
   "source": [
    "model = keras.models.Sequential([\n",
    "    keras.layers.Dense(30, activation='relu', input_shape=X_train_scaled.shape[1:]),\n",
    "    keras.layers.Dense(1)\n",
    "])\n",
    "\n",
    "model.compile(loss='mean_squared_error', optimizer='sgd')"
   ],
   "metadata": {
    "collapsed": false,
    "ExecuteTime": {
     "end_time": "2023-05-17T13:38:24.667356537Z",
     "start_time": "2023-05-17T13:38:24.533885240Z"
    }
   }
  },
  {
   "cell_type": "code",
   "execution_count": 28,
   "outputs": [
    {
     "name": "stdout",
     "output_type": "stream",
     "text": [
      "Epoch 1/50\n",
      "363/363 [==============================] - 1s 2ms/step - loss: 0.3533 - val_loss: 36.2731\n",
      "Epoch 2/50\n",
      "363/363 [==============================] - 1s 2ms/step - loss: 0.3582 - val_loss: 34.6036\n",
      "Epoch 3/50\n",
      "363/363 [==============================] - 1s 2ms/step - loss: 0.3545 - val_loss: 34.0935\n",
      "Epoch 4/50\n",
      "363/363 [==============================] - 1s 2ms/step - loss: 0.3842 - val_loss: 32.2587\n",
      "Epoch 5/50\n",
      "363/363 [==============================] - 1s 2ms/step - loss: 0.3539 - val_loss: 32.4258\n",
      "Epoch 6/50\n",
      "363/363 [==============================] - 1s 2ms/step - loss: 0.3473 - val_loss: 30.3829\n",
      "Epoch 7/50\n",
      "363/363 [==============================] - 1s 2ms/step - loss: 0.3486 - val_loss: 29.4790\n",
      "Epoch 8/50\n",
      "363/363 [==============================] - 1s 2ms/step - loss: 0.3460 - val_loss: 28.1587\n",
      "Epoch 9/50\n",
      "363/363 [==============================] - 1s 2ms/step - loss: 0.3408 - val_loss: 27.2642\n",
      "Epoch 10/50\n",
      "363/363 [==============================] - 1s 2ms/step - loss: 0.3523 - val_loss: 27.2632\n",
      "Epoch 11/50\n",
      "363/363 [==============================] - 1s 2ms/step - loss: 0.3389 - val_loss: 26.2977\n",
      "Epoch 12/50\n",
      "363/363 [==============================] - 1s 2ms/step - loss: 0.3344 - val_loss: 26.1220\n",
      "Epoch 13/50\n",
      "363/363 [==============================] - 1s 2ms/step - loss: 0.3322 - val_loss: 25.3762\n",
      "Epoch 14/50\n",
      "363/363 [==============================] - 1s 2ms/step - loss: 0.3365 - val_loss: 25.1753\n",
      "Epoch 15/50\n",
      "363/363 [==============================] - 1s 2ms/step - loss: 0.3321 - val_loss: 23.8905\n",
      "Epoch 16/50\n",
      "363/363 [==============================] - 1s 2ms/step - loss: 0.3295 - val_loss: 23.5878\n",
      "Epoch 17/50\n",
      "363/363 [==============================] - 1s 2ms/step - loss: 0.3279 - val_loss: 22.9120\n",
      "Epoch 18/50\n",
      "363/363 [==============================] - 1s 2ms/step - loss: 0.3289 - val_loss: 22.9629\n",
      "Epoch 19/50\n",
      "363/363 [==============================] - 1s 2ms/step - loss: 0.3275 - val_loss: 21.6829\n",
      "Epoch 20/50\n",
      "363/363 [==============================] - 1s 3ms/step - loss: 0.3238 - val_loss: 21.2457\n",
      "Epoch 21/50\n",
      "363/363 [==============================] - 1s 2ms/step - loss: 0.3234 - val_loss: 20.7741\n",
      "Epoch 22/50\n",
      "363/363 [==============================] - 1s 2ms/step - loss: 0.3247 - val_loss: 20.4557\n",
      "Epoch 23/50\n",
      "363/363 [==============================] - 1s 2ms/step - loss: 0.3234 - val_loss: 20.1214\n",
      "Epoch 24/50\n",
      "363/363 [==============================] - 1s 2ms/step - loss: 0.3262 - val_loss: 19.2394\n",
      "Epoch 25/50\n",
      "363/363 [==============================] - 1s 2ms/step - loss: 0.3218 - val_loss: 19.1019\n",
      "Epoch 26/50\n",
      "363/363 [==============================] - 1s 2ms/step - loss: 0.3300 - val_loss: 18.8559\n",
      "Epoch 27/50\n",
      "363/363 [==============================] - 1s 2ms/step - loss: 0.3237 - val_loss: 18.5264\n",
      "Epoch 28/50\n",
      "363/363 [==============================] - 1s 2ms/step - loss: 0.3203 - val_loss: 18.4236\n",
      "Epoch 29/50\n",
      "363/363 [==============================] - 1s 2ms/step - loss: 0.3186 - val_loss: 17.8407\n",
      "Epoch 30/50\n",
      "363/363 [==============================] - 1s 2ms/step - loss: 0.3178 - val_loss: 17.7315\n",
      "Epoch 31/50\n",
      "363/363 [==============================] - 1s 2ms/step - loss: 0.3165 - val_loss: 17.0274\n",
      "Epoch 32/50\n",
      "363/363 [==============================] - 1s 2ms/step - loss: 0.3230 - val_loss: 17.1098\n",
      "Epoch 33/50\n",
      "363/363 [==============================] - 1s 2ms/step - loss: 0.3196 - val_loss: 16.6176\n",
      "Epoch 34/50\n",
      "363/363 [==============================] - 1s 2ms/step - loss: 0.3159 - val_loss: 16.4248\n",
      "Epoch 35/50\n",
      "363/363 [==============================] - 1s 2ms/step - loss: 0.3147 - val_loss: 15.9218\n",
      "Epoch 36/50\n",
      "363/363 [==============================] - 1s 2ms/step - loss: 0.3143 - val_loss: 16.3751\n",
      "Epoch 37/50\n",
      "363/363 [==============================] - 1s 2ms/step - loss: 0.3221 - val_loss: 15.9770\n",
      "Epoch 38/50\n",
      "363/363 [==============================] - 1s 2ms/step - loss: 0.3212 - val_loss: 15.7217\n",
      "Epoch 39/50\n",
      "363/363 [==============================] - 1s 2ms/step - loss: 0.3145 - val_loss: 15.3580\n",
      "Epoch 40/50\n",
      "363/363 [==============================] - 1s 2ms/step - loss: 0.3135 - val_loss: 15.0792\n",
      "Epoch 41/50\n",
      "363/363 [==============================] - 1s 2ms/step - loss: 0.3257 - val_loss: 15.3714\n",
      "Epoch 42/50\n",
      "363/363 [==============================] - 1s 2ms/step - loss: 0.3135 - val_loss: 15.1868\n",
      "Epoch 43/50\n",
      "363/363 [==============================] - 1s 2ms/step - loss: 0.3153 - val_loss: 14.6003\n",
      "Epoch 44/50\n",
      "363/363 [==============================] - 1s 2ms/step - loss: 0.3132 - val_loss: 14.8554\n",
      "Epoch 45/50\n",
      "363/363 [==============================] - 1s 2ms/step - loss: 0.3128 - val_loss: 14.4260\n",
      "Epoch 46/50\n",
      "363/363 [==============================] - 1s 2ms/step - loss: 0.3098 - val_loss: 14.2425\n",
      "Epoch 47/50\n",
      "363/363 [==============================] - 1s 2ms/step - loss: 0.3108 - val_loss: 14.0588\n",
      "Epoch 48/50\n",
      "363/363 [==============================] - 1s 2ms/step - loss: 0.3094 - val_loss: 14.2592\n",
      "Epoch 49/50\n",
      "363/363 [==============================] - 1s 2ms/step - loss: 0.3141 - val_loss: 13.8342\n",
      "Epoch 50/50\n",
      "363/363 [==============================] - 1s 2ms/step - loss: 0.3094 - val_loss: 13.6775\n"
     ]
    }
   ],
   "source": [
    "history = model.fit(X_train_scaled, y_train, epochs=50, validation_data=(X_valid_scaled, y_valid))"
   ],
   "metadata": {
    "collapsed": false,
    "ExecuteTime": {
     "end_time": "2023-05-17T13:41:01.787397541Z",
     "start_time": "2023-05-17T13:40:23.654595871Z"
    }
   }
  },
  {
   "cell_type": "code",
   "execution_count": 29,
   "outputs": [
    {
     "name": "stdout",
     "output_type": "stream",
     "text": [
      "162/162 [==============================] - 0s 2ms/step - loss: 0.3591\n"
     ]
    }
   ],
   "source": [
    "mse_test = model.evaluate(X_test_scaled, y_test)"
   ],
   "metadata": {
    "collapsed": false,
    "ExecuteTime": {
     "end_time": "2023-05-17T13:41:30.973899389Z",
     "start_time": "2023-05-17T13:41:30.270042387Z"
    }
   }
  },
  {
   "cell_type": "code",
   "execution_count": 30,
   "outputs": [
    {
     "data": {
      "text/plain": "0.35905909538269043"
     },
     "execution_count": 30,
     "metadata": {},
     "output_type": "execute_result"
    }
   ],
   "source": [
    "mse_test"
   ],
   "metadata": {
    "collapsed": false,
    "ExecuteTime": {
     "end_time": "2023-05-17T13:41:33.698561364Z",
     "start_time": "2023-05-17T13:41:33.653735665Z"
    }
   }
  },
  {
   "cell_type": "code",
   "execution_count": 34,
   "outputs": [
    {
     "data": {
      "text/plain": "<Figure size 800x500 with 1 Axes>",
      "image/png": "[encoded data removed]"
     },
     "metadata": {},
     "output_type": "display_data"
    }
   ],
   "source": [
    "pd.DataFrame(history.history).plot(figsize=(8, 5))\n",
    "plt.grid()\n",
    "plt.show()"
   ],
   "metadata": {
    "collapsed": false,
    "ExecuteTime": {
     "end_time": "2023-05-17T13:44:00.708613760Z",
     "start_time": "2023-05-17T13:44:00.190070336Z"
    }
   }
  },
  {
   "cell_type": "code",
   "execution_count": 35,
   "outputs": [
    {
     "name": "stdout",
     "output_type": "stream",
     "text": [
      "1/1 [==============================] - 0s 69ms/step\n"
     ]
    },
    {
     "data": {
      "text/plain": "array([[3.4337761],\n       [1.9534018],\n       [1.7990928]], dtype=float32)"
     },
     "execution_count": 35,
     "metadata": {},
     "output_type": "execute_result"
    }
   ],
   "source": [
    "x_new = X_test_scaled[:3]\n",
    "model.predict(x_new)"
   ],
   "metadata": {
    "collapsed": false,
    "ExecuteTime": {
     "end_time": "2023-05-17T13:44:36.001902742Z",
     "start_time": "2023-05-17T13:44:35.886606855Z"
    }
   }
  },
  {
   "cell_type": "code",
   "execution_count": null,
   "outputs": [],
   "source": [],
   "metadata": {
    "collapsed": false
   }
  }
 ],
 "metadata": {
  "kernelspec": {
   "display_name": "Python 3",
   "language": "python",
   "name": "python3"
  },
  "language_info": {
   "codemirror_mode": {
    "name": "ipython",
    "version": 2
   },
   "file_extension": ".py",
   "mimetype": "text/x-python",
   "name": "python",
   "nbconvert_exporter": "python",
   "pygments_lexer": "ipython2",
   "version": "2.7.6"
  }
 },
 "nbformat": 4,
 "nbformat_minor": 0
}
