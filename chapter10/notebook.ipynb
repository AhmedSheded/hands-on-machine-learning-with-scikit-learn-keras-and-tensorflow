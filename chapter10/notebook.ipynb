{
 "cells": [
  {
   "cell_type": "markdown",
   "source": [
    "### single TLU network"
   ],
   "metadata": {
    "collapsed": false
   }
  },
  {
   "cell_type": "code",
   "execution_count": 1,
   "outputs": [],
   "source": [
    "import numpy as np\n",
    "from sklearn.datasets import load_iris\n",
    "from sklearn.linear_model import Perceptron\n",
    "\n",
    "iris = load_iris()\n",
    "X = iris.data[:, (2, 3)] # petal length, petal width\n",
    "y = (iris.target == 0).astype(int) # iris Setosa\n",
    "\n",
    "per_clf = Perceptron()\n",
    "per_clf.fit(X, y)\n",
    "y_pred = per_clf.predict([[2, 0.5]])"
   ],
   "metadata": {
    "collapsed": false,
    "ExecuteTime": {
     "end_time": "2023-05-14T17:31:14.528515674Z",
     "start_time": "2023-05-14T17:31:13.120423872Z"
    }
   }
  },
  {
   "cell_type": "markdown",
   "source": [
    "### Building an Image Classifier Using the Sequential API"
   ],
   "metadata": {
    "collapsed": false
   }
  },
  {
   "cell_type": "markdown",
   "source": [],
   "metadata": {
    "collapsed": false
   }
  },
  {
   "cell_type": "code",
   "execution_count": 2,
   "outputs": [
    {
     "name": "stderr",
     "output_type": "stream",
     "text": [
      "2023-05-14 20:31:15.157305: I tensorflow/tsl/cuda/cudart_stub.cc:28] Could not find cuda drivers on your machine, GPU will not be used.\n",
      "2023-05-14 20:31:15.496584: I tensorflow/tsl/cuda/cudart_stub.cc:28] Could not find cuda drivers on your machine, GPU will not be used.\n",
      "2023-05-14 20:31:17.648741: W tensorflow/compiler/tf2tensorrt/utils/py_utils.cc:38] TF-TRT Warning: Could not find TensorRT\n"
     ]
    }
   ],
   "source": [
    "import tensorflow as tf\n",
    "from tensorflow import keras\n",
    "\n",
    "fashion_mnist = keras.datasets.fashion_mnist\n",
    "\n",
    "(X_train_full, y_train_full), (X_test, y_test)= fashion_mnist.load_data()"
   ],
   "metadata": {
    "collapsed": false,
    "ExecuteTime": {
     "end_time": "2023-05-14T17:31:20.551540541Z",
     "start_time": "2023-05-14T17:31:14.533653191Z"
    }
   }
  },
  {
   "cell_type": "code",
   "execution_count": 3,
   "outputs": [
    {
     "data": {
      "text/plain": "(60000, 28, 28)"
     },
     "execution_count": 3,
     "metadata": {},
     "output_type": "execute_result"
    }
   ],
   "source": [
    "X_train_full.shape"
   ],
   "metadata": {
    "collapsed": false,
    "ExecuteTime": {
     "end_time": "2023-05-14T17:31:20.574314986Z",
     "start_time": "2023-05-14T17:31:20.561354519Z"
    }
   }
  },
  {
   "cell_type": "code",
   "execution_count": 4,
   "outputs": [
    {
     "data": {
      "text/plain": "dtype('uint8')"
     },
     "execution_count": 4,
     "metadata": {},
     "output_type": "execute_result"
    }
   ],
   "source": [
    "X_train_full.dtype"
   ],
   "metadata": {
    "collapsed": false,
    "ExecuteTime": {
     "end_time": "2023-05-14T17:31:20.614360109Z",
     "start_time": "2023-05-14T17:31:20.574967636Z"
    }
   }
  },
  {
   "cell_type": "code",
   "execution_count": 5,
   "outputs": [],
   "source": [
    "x_valid, x_train = X_train_full[:5000]/255.0, X_train_full[5000:]/255.0\n",
    "y_valid, y_train = y_train_full[:5000], y_train_full[5000:]"
   ],
   "metadata": {
    "collapsed": false,
    "ExecuteTime": {
     "end_time": "2023-05-14T17:31:20.902144718Z",
     "start_time": "2023-05-14T17:31:20.587625173Z"
    }
   }
  },
  {
   "cell_type": "code",
   "execution_count": 6,
   "outputs": [],
   "source": [
    "class_names = [\"T-shirt/top\", \"Trouser\", \"Pullover\", \"Dress\", \"Coat\",\n",
    "               \"Sandal\", \"Shirt\", \"Sneaker\", \"Bag\", \"Ankle boot\"]"
   ],
   "metadata": {
    "collapsed": false,
    "ExecuteTime": {
     "end_time": "2023-05-14T17:31:20.912491821Z",
     "start_time": "2023-05-14T17:31:20.900752537Z"
    }
   }
  },
  {
   "cell_type": "code",
   "execution_count": 7,
   "outputs": [
    {
     "data": {
      "text/plain": "'Coat'"
     },
     "execution_count": 7,
     "metadata": {},
     "output_type": "execute_result"
    }
   ],
   "source": [
    "class_names[y_train[0]]"
   ],
   "metadata": {
    "collapsed": false,
    "ExecuteTime": {
     "end_time": "2023-05-14T17:31:20.962507268Z",
     "start_time": "2023-05-14T17:31:20.909350614Z"
    }
   }
  },
  {
   "cell_type": "markdown",
   "source": [
    "### Createing the model using the Sequential API"
   ],
   "metadata": {
    "collapsed": false
   }
  },
  {
   "cell_type": "code",
   "execution_count": 8,
   "outputs": [
    {
     "name": "stderr",
     "output_type": "stream",
     "text": [
      "2023-05-14 20:31:20.951786: E tensorflow/compiler/xla/stream_executor/cuda/cuda_driver.cc:266] failed call to cuInit: CUDA_ERROR_UNKNOWN: unknown error\n",
      "2023-05-14 20:31:20.951851: I tensorflow/compiler/xla/stream_executor/cuda/cuda_diagnostics.cc:168] retrieving CUDA diagnostic information for host: sheded-Latitude-E6520\n",
      "2023-05-14 20:31:20.951864: I tensorflow/compiler/xla/stream_executor/cuda/cuda_diagnostics.cc:175] hostname: sheded-Latitude-E6520\n",
      "2023-05-14 20:31:20.952036: I tensorflow/compiler/xla/stream_executor/cuda/cuda_diagnostics.cc:199] libcuda reported version is: 390.157.0\n",
      "2023-05-14 20:31:20.952105: I tensorflow/compiler/xla/stream_executor/cuda/cuda_diagnostics.cc:203] kernel reported version is: 390.157.0\n",
      "2023-05-14 20:31:20.952126: I tensorflow/compiler/xla/stream_executor/cuda/cuda_diagnostics.cc:309] kernel version seems to match DSO: 390.157.0\n"
     ]
    }
   ],
   "source": [
    "model = keras.models.Sequential()\n",
    "model.add(keras.layers.Flatten(input_shape=[28, 28]))\n",
    "model.add(keras.layers.Dense(300, activation='relu'))\n",
    "model.add(keras.layers.Dense(100, activation='relu'))\n",
    "model.add(keras.layers.Dense(10, activation='softmax'))"
   ],
   "metadata": {
    "collapsed": false,
    "ExecuteTime": {
     "end_time": "2023-05-14T17:31:21.198871543Z",
     "start_time": "2023-05-14T17:31:20.932951557Z"
    }
   }
  },
  {
   "cell_type": "code",
   "execution_count": 9,
   "outputs": [
    {
     "name": "stdout",
     "output_type": "stream",
     "text": [
      "Model: \"sequential\"\n",
      "_________________________________________________________________\n",
      " Layer (type)                Output Shape              Param #   \n",
      "=================================================================\n",
      " flatten (Flatten)           (None, 784)               0         \n",
      "                                                                 \n",
      " dense (Dense)               (None, 300)               235500    \n",
      "                                                                 \n",
      " dense_1 (Dense)             (None, 100)               30100     \n",
      "                                                                 \n",
      " dense_2 (Dense)             (None, 10)                1010      \n",
      "                                                                 \n",
      "=================================================================\n",
      "Total params: 266,610\n",
      "Trainable params: 266,610\n",
      "Non-trainable params: 0\n",
      "_________________________________________________________________\n"
     ]
    }
   ],
   "source": [
    "model.summary()"
   ],
   "metadata": {
    "collapsed": false,
    "ExecuteTime": {
     "end_time": "2023-05-14T17:31:21.201261467Z",
     "start_time": "2023-05-14T17:31:21.156981499Z"
    }
   }
  },
  {
   "cell_type": "code",
   "execution_count": 10,
   "outputs": [
    {
     "data": {
      "text/plain": "[<keras.layers.reshaping.flatten.Flatten at 0x7f4022e07100>,\n <keras.layers.core.dense.Dense at 0x7f4022e072b0>,\n <keras.layers.core.dense.Dense at 0x7f4022e07fd0>,\n <keras.layers.core.dense.Dense at 0x7f40089d8100>]"
     },
     "execution_count": 10,
     "metadata": {},
     "output_type": "execute_result"
    }
   ],
   "source": [
    "model.layers"
   ],
   "metadata": {
    "collapsed": false,
    "ExecuteTime": {
     "end_time": "2023-05-14T17:31:21.223161472Z",
     "start_time": "2023-05-14T17:31:21.200470774Z"
    }
   }
  },
  {
   "cell_type": "code",
   "execution_count": 11,
   "outputs": [
    {
     "data": {
      "text/plain": "'dense'"
     },
     "execution_count": 11,
     "metadata": {},
     "output_type": "execute_result"
    }
   ],
   "source": [
    "model.layers[1].name"
   ],
   "metadata": {
    "collapsed": false,
    "ExecuteTime": {
     "end_time": "2023-05-14T17:31:21.225483172Z",
     "start_time": "2023-05-14T17:31:21.200861403Z"
    }
   }
  },
  {
   "cell_type": "code",
   "execution_count": 12,
   "outputs": [
    {
     "data": {
      "text/plain": "'dense'"
     },
     "execution_count": 12,
     "metadata": {},
     "output_type": "execute_result"
    }
   ],
   "source": [
    "model.get_layer('dense').name"
   ],
   "metadata": {
    "collapsed": false,
    "ExecuteTime": {
     "end_time": "2023-05-14T17:31:21.384317880Z",
     "start_time": "2023-05-14T17:31:21.213433244Z"
    }
   }
  },
  {
   "cell_type": "code",
   "execution_count": 13,
   "outputs": [],
   "source": [
    "weights, biases = model.get_layer('dense').get_weights()"
   ],
   "metadata": {
    "collapsed": false,
    "ExecuteTime": {
     "end_time": "2023-05-14T17:31:21.384981043Z",
     "start_time": "2023-05-14T17:31:21.256802628Z"
    }
   }
  },
  {
   "cell_type": "code",
   "execution_count": 14,
   "outputs": [
    {
     "data": {
      "text/plain": "(784, 300)"
     },
     "execution_count": 14,
     "metadata": {},
     "output_type": "execute_result"
    }
   ],
   "source": [
    "weights.shape"
   ],
   "metadata": {
    "collapsed": false,
    "ExecuteTime": {
     "end_time": "2023-05-14T17:31:21.385774030Z",
     "start_time": "2023-05-14T17:31:21.257103041Z"
    }
   }
  },
  {
   "cell_type": "code",
   "execution_count": 15,
   "outputs": [
    {
     "data": {
      "text/plain": "(300,)"
     },
     "execution_count": 15,
     "metadata": {},
     "output_type": "execute_result"
    }
   ],
   "source": [
    "biases.shape"
   ],
   "metadata": {
    "collapsed": false,
    "ExecuteTime": {
     "end_time": "2023-05-14T17:31:21.427643175Z",
     "start_time": "2023-05-14T17:31:21.257339713Z"
    }
   }
  },
  {
   "cell_type": "code",
   "execution_count": 16,
   "outputs": [],
   "source": [
    "model.compile(loss='sparse_categorical_crossentropy', optimizer='sgd', metrics=['accuracy'])"
   ],
   "metadata": {
    "collapsed": false,
    "ExecuteTime": {
     "end_time": "2023-05-14T17:31:21.439261519Z",
     "start_time": "2023-05-14T17:31:21.300457106Z"
    }
   }
  },
  {
   "cell_type": "code",
   "execution_count": 17,
   "outputs": [
    {
     "name": "stderr",
     "output_type": "stream",
     "text": [
      "2023-05-14 20:31:21.895721: W tensorflow/tsl/framework/cpu_allocator_impl.cc:83] Allocation of 172480000 exceeds 10% of free system memory.\n"
     ]
    },
    {
     "name": "stdout",
     "output_type": "stream",
     "text": [
      "Epoch 1/30\n",
      "1719/1719 [==============================] - 14s 8ms/step - loss: 0.7151 - accuracy: 0.7632 - val_loss: 0.5243 - val_accuracy: 0.8210\n",
      "Epoch 2/30\n",
      "1719/1719 [==============================] - 11s 6ms/step - loss: 0.4935 - accuracy: 0.8280 - val_loss: 0.4447 - val_accuracy: 0.8498\n",
      "Epoch 3/30\n",
      "1719/1719 [==============================] - 11s 6ms/step - loss: 0.4489 - accuracy: 0.8409 - val_loss: 0.4154 - val_accuracy: 0.8590\n",
      "Epoch 4/30\n",
      "1719/1719 [==============================] - 11s 6ms/step - loss: 0.4206 - accuracy: 0.8529 - val_loss: 0.3992 - val_accuracy: 0.8628\n",
      "Epoch 5/30\n",
      "1719/1719 [==============================] - 10s 6ms/step - loss: 0.4012 - accuracy: 0.8599 - val_loss: 0.3945 - val_accuracy: 0.8602\n",
      "Epoch 6/30\n",
      "1719/1719 [==============================] - 10s 6ms/step - loss: 0.3843 - accuracy: 0.8642 - val_loss: 0.3737 - val_accuracy: 0.8720\n",
      "Epoch 7/30\n",
      "1719/1719 [==============================] - 13s 8ms/step - loss: 0.3705 - accuracy: 0.8697 - val_loss: 0.3674 - val_accuracy: 0.8708\n",
      "Epoch 8/30\n",
      "1719/1719 [==============================] - 19s 11ms/step - loss: 0.3576 - accuracy: 0.8731 - val_loss: 0.3736 - val_accuracy: 0.8690\n",
      "Epoch 9/30\n",
      "1719/1719 [==============================] - 10s 6ms/step - loss: 0.3471 - accuracy: 0.8775 - val_loss: 0.3764 - val_accuracy: 0.8654\n",
      "Epoch 10/30\n",
      "1719/1719 [==============================] - 12s 7ms/step - loss: 0.3376 - accuracy: 0.8801 - val_loss: 0.3453 - val_accuracy: 0.8784\n",
      "Epoch 11/30\n",
      "1719/1719 [==============================] - 12s 7ms/step - loss: 0.3286 - accuracy: 0.8830 - val_loss: 0.3484 - val_accuracy: 0.8744\n",
      "Epoch 12/30\n",
      "1719/1719 [==============================] - 14s 8ms/step - loss: 0.3204 - accuracy: 0.8848 - val_loss: 0.3491 - val_accuracy: 0.8768\n",
      "Epoch 13/30\n",
      "1719/1719 [==============================] - 14s 8ms/step - loss: 0.3124 - accuracy: 0.8881 - val_loss: 0.3422 - val_accuracy: 0.8770\n",
      "Epoch 14/30\n",
      "1719/1719 [==============================] - 10s 6ms/step - loss: 0.3056 - accuracy: 0.8908 - val_loss: 0.3313 - val_accuracy: 0.8826\n",
      "Epoch 15/30\n",
      "1719/1719 [==============================] - 13s 7ms/step - loss: 0.2998 - accuracy: 0.8920 - val_loss: 0.3274 - val_accuracy: 0.8842\n",
      "Epoch 16/30\n",
      "1719/1719 [==============================] - 12s 7ms/step - loss: 0.2920 - accuracy: 0.8956 - val_loss: 0.3293 - val_accuracy: 0.8846\n",
      "Epoch 17/30\n",
      "1719/1719 [==============================] - 9s 5ms/step - loss: 0.2870 - accuracy: 0.8975 - val_loss: 0.3250 - val_accuracy: 0.8824\n",
      "Epoch 18/30\n",
      "1719/1719 [==============================] - 10s 6ms/step - loss: 0.2819 - accuracy: 0.8989 - val_loss: 0.3094 - val_accuracy: 0.8874\n",
      "Epoch 19/30\n",
      "1719/1719 [==============================] - 9s 5ms/step - loss: 0.2750 - accuracy: 0.9012 - val_loss: 0.3143 - val_accuracy: 0.8886\n",
      "Epoch 20/30\n",
      "1719/1719 [==============================] - 9s 5ms/step - loss: 0.2711 - accuracy: 0.9032 - val_loss: 0.3173 - val_accuracy: 0.8864\n",
      "Epoch 21/30\n",
      "1719/1719 [==============================] - 11s 6ms/step - loss: 0.2647 - accuracy: 0.9045 - val_loss: 0.3178 - val_accuracy: 0.8840\n",
      "Epoch 22/30\n",
      "1719/1719 [==============================] - 11s 6ms/step - loss: 0.2619 - accuracy: 0.9058 - val_loss: 0.3117 - val_accuracy: 0.8864\n",
      "Epoch 23/30\n",
      "1719/1719 [==============================] - 9s 5ms/step - loss: 0.2563 - accuracy: 0.9085 - val_loss: 0.3167 - val_accuracy: 0.8836\n",
      "Epoch 24/30\n",
      "1719/1719 [==============================] - 10s 6ms/step - loss: 0.2519 - accuracy: 0.9090 - val_loss: 0.3147 - val_accuracy: 0.8846\n",
      "Epoch 25/30\n",
      "1719/1719 [==============================] - 13s 7ms/step - loss: 0.2479 - accuracy: 0.9104 - val_loss: 0.3044 - val_accuracy: 0.8890\n",
      "Epoch 26/30\n",
      "1719/1719 [==============================] - 15s 9ms/step - loss: 0.2434 - accuracy: 0.9127 - val_loss: 0.3011 - val_accuracy: 0.8904\n",
      "Epoch 27/30\n",
      "1719/1719 [==============================] - 13s 7ms/step - loss: 0.2389 - accuracy: 0.9139 - val_loss: 0.3001 - val_accuracy: 0.8914\n",
      "Epoch 28/30\n",
      "1719/1719 [==============================] - 10s 6ms/step - loss: 0.2357 - accuracy: 0.9163 - val_loss: 0.2988 - val_accuracy: 0.8900\n",
      "Epoch 29/30\n",
      "1719/1719 [==============================] - 10s 6ms/step - loss: 0.2317 - accuracy: 0.9167 - val_loss: 0.3316 - val_accuracy: 0.8794\n",
      "Epoch 30/30\n",
      "1719/1719 [==============================] - 12s 7ms/step - loss: 0.2282 - accuracy: 0.9177 - val_loss: 0.2954 - val_accuracy: 0.8922\n"
     ]
    }
   ],
   "source": [
    "history = model.fit(x_train, y_train, epochs=30, validation_data=(x_valid, y_valid))"
   ],
   "metadata": {
    "collapsed": false,
    "ExecuteTime": {
     "end_time": "2023-05-14T17:37:44.977517772Z",
     "start_time": "2023-05-14T17:31:21.302619976Z"
    }
   }
  },
  {
   "cell_type": "code",
   "execution_count": 28,
   "outputs": [
    {
     "data": {
      "text/plain": "<Figure size 800x500 with 1 Axes>",
      "image/png": "[encoded data removed]"
     },
     "metadata": {},
     "output_type": "display_data"
    }
   ],
   "source": [
    "import pandas as pd\n",
    "import matplotlib.pyplot as plt\n",
    "pd.DataFrame(history.history).plot(figsize=(8, 5))\n",
    "plt.grid()\n",
    "plt.gca().set_ylim(0, 1)\n",
    "plt.show()"
   ],
   "metadata": {
    "collapsed": false,
    "ExecuteTime": {
     "end_time": "2023-05-14T17:42:14.811815120Z",
     "start_time": "2023-05-14T17:42:14.224021938Z"
    }
   }
  },
  {
   "cell_type": "code",
   "execution_count": 29,
   "outputs": [
    {
     "name": "stdout",
     "output_type": "stream",
     "text": [
      "313/313 [==============================] - 2s 4ms/step - loss: 77.3735 - accuracy: 0.8310\n"
     ]
    },
    {
     "data": {
      "text/plain": "[77.37349700927734, 0.8309999704360962]"
     },
     "execution_count": 29,
     "metadata": {},
     "output_type": "execute_result"
    }
   ],
   "source": [
    "model.evaluate(X_test, y_test)"
   ],
   "metadata": {
    "collapsed": false,
    "ExecuteTime": {
     "end_time": "2023-05-14T17:43:00.830661339Z",
     "start_time": "2023-05-14T17:42:59.099290502Z"
    }
   }
  },
  {
   "cell_type": "code",
   "execution_count": 30,
   "outputs": [
    {
     "name": "stdout",
     "output_type": "stream",
     "text": [
      "1/1 [==============================] - 0s 180ms/step\n"
     ]
    },
    {
     "data": {
      "text/plain": "array([[0., 0., 0., 0., 0., 0., 0., 0., 0., 1.],\n       [0., 0., 1., 0., 0., 0., 0., 0., 0., 0.],\n       [0., 1., 0., 0., 0., 0., 0., 0., 0., 0.]], dtype=float32)"
     },
     "execution_count": 30,
     "metadata": {},
     "output_type": "execute_result"
    }
   ],
   "source": [
    "X_new = X_test[:3]\n",
    "y_proba = model.predict(X_new)\n",
    "y_proba.round(2)"
   ],
   "metadata": {
    "collapsed": false,
    "ExecuteTime": {
     "end_time": "2023-05-14T17:44:18.938237812Z",
     "start_time": "2023-05-14T17:44:18.668129682Z"
    }
   }
  },
  {
   "cell_type": "code",
   "execution_count": null,
   "outputs": [],
   "source": [],
   "metadata": {
    "collapsed": false
   }
  }
 ],
 "metadata": {
  "kernelspec": {
   "display_name": "Python 3",
   "language": "python",
   "name": "python3"
  },
  "language_info": {
   "codemirror_mode": {
    "name": "ipython",
    "version": 2
   },
   "file_extension": ".py",
   "mimetype": "text/x-python",
   "name": "python",
   "nbconvert_exporter": "python",
   "pygments_lexer": "ipython2",
   "version": "2.7.6"
  }
 },
 "nbformat": 4,
 "nbformat_minor": 0
}
